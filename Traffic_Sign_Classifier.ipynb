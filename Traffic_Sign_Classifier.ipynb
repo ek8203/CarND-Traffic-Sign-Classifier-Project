{
 "cells": [
  {
   "cell_type": "markdown",
   "metadata": {},
   "source": [
    "# Self-Driving Car Engineer Nanodegree\n",
    "\n",
    "## Deep Learning\n",
    "\n",
    "## Project: Build a Traffic Sign Recognition Classifier\n",
    "\n",
    "In this notebook, a template is provided for you to implement your functionality in stages, which is required to successfully complete this project. If additional code is required that cannot be included in the notebook, be sure that the Python code is successfully imported and included in your submission if necessary. \n",
    "\n",
    "> **Note**: Once you have completed all of the code implementations, you need to finalize your work by exporting the iPython Notebook as an HTML document. Before exporting the notebook to html, all of the code cells need to have been run so that reviewers can see the final implementation and output. You can then export the notebook by using the menu above and navigating to  \\n\",\n",
    "    \"**File -> Download as -> HTML (.html)**. Include the finished document along with this notebook as your submission. \n",
    "\n",
    "In addition to implementing code, there is a writeup to complete. The writeup should be completed in a separate file, which can be either a markdown file or a pdf document. There is a [write up template](https://github.com/udacity/CarND-Traffic-Sign-Classifier-Project/blob/master/writeup_template.md) that can be used to guide the writing process. Completing the code template and writeup template will cover all of the [rubric points](https://review.udacity.com/#!/rubrics/481/view) for this project.\n",
    "\n",
    "The [rubric](https://review.udacity.com/#!/rubrics/481/view) contains \"Stand Out Suggestions\" for enhancing the project beyond the minimum requirements. The stand out suggestions are optional. If you decide to pursue the \"stand out suggestions\", you can include the code in this Ipython notebook and also discuss the results in the writeup file.\n",
    "\n",
    "\n",
    ">**Note:** Code and Markdown cells can be executed using the **Shift + Enter** keyboard shortcut. In addition, Markdown cells can be edited by typically double-clicking the cell to enter edit mode."
   ]
  },
  {
   "cell_type": "markdown",
   "metadata": {},
   "source": [
    "---\n",
    "## Step 0: Load The Data"
   ]
  },
  {
   "cell_type": "code",
   "execution_count": 1,
   "metadata": {
    "collapsed": true
   },
   "outputs": [],
   "source": [
    "# Load pickled data\n",
    "import pickle\n",
    "\n",
    "# TODO: Fill this in based on where you saved the training and testing data\n",
    "\n",
    "dir_name = \"traffic-signs-data/\"\n",
    "training_file   = dir_name + \"train.p\"\n",
    "validation_file = dir_name + \"valid.p\"\n",
    "testing_file    = dir_name + \"test.p\"\n",
    "\n",
    "with open(training_file, mode='rb') as f:\n",
    "    train = pickle.load(f)\n",
    "with open(validation_file, mode='rb') as f:\n",
    "    valid = pickle.load(f)\n",
    "with open(testing_file, mode='rb') as f:\n",
    "    test = pickle.load(f)\n",
    "    \n",
    "X_train, y_train = train['features'], train['labels']\n",
    "X_valid, y_valid = valid['features'], valid['labels']\n",
    "X_test, y_test = test['features'], test['labels']\n",
    "\n",
    "assert(len(X_train) == len(y_train))\n",
    "assert(len(X_valid) == len(y_valid))\n",
    "assert(len(X_test) == len(y_test))"
   ]
  },
  {
   "cell_type": "markdown",
   "metadata": {},
   "source": [
    "---\n",
    "\n",
    "## Step 1: Dataset Summary & Exploration\n",
    "\n",
    "The pickled data is a dictionary with 4 key/value pairs:\n",
    "\n",
    "- `'features'` is a 4D array containing raw pixel data of the traffic sign images, (num examples, width, height, channels).\n",
    "- `'labels'` is a 1D array containing the label/class id of the traffic sign. The file `signnames.csv` contains id -> name mappings for each id.\n",
    "- `'sizes'` is a list containing tuples, (width, height) representing the original width and height the image.\n",
    "- `'coords'` is a list containing tuples, (x1, y1, x2, y2) representing coordinates of a bounding box around the sign in the image. **THESE COORDINATES ASSUME THE ORIGINAL IMAGE. THE PICKLED DATA CONTAINS RESIZED VERSIONS (32 by 32) OF THESE IMAGES**\n",
    "\n",
    "Complete the basic data summary below. Use python, numpy and/or pandas methods to calculate the data summary rather than hard coding the results. For example, the [pandas shape method](http://pandas.pydata.org/pandas-docs/stable/generated/pandas.DataFrame.shape.html) might be useful for calculating some of the summary results. "
   ]
  },
  {
   "cell_type": "markdown",
   "metadata": {},
   "source": [
    "### Provide a Basic Summary of the Data Set Using Python, Numpy and/or Pandas"
   ]
  },
  {
   "cell_type": "code",
   "execution_count": 2,
   "metadata": {},
   "outputs": [
    {
     "name": "stdout",
     "output_type": "stream",
     "text": [
      "Number of training examples = 34799\n",
      "Number of validation examples = 4410\n",
      "Number of testing examples = 12630\n",
      "Image data shape = (32, 32, 3)\n",
      "Number of classes = 43\n"
     ]
    }
   ],
   "source": [
    "### Replace each question mark with the appropriate value. \n",
    "### Use python, pandas or numpy methods rather than hard coding the results\n",
    "\n",
    "# TODO: Number of training examples\n",
    "n_train = len(X_train)\n",
    "\n",
    "# TODO: Number of validation examples\n",
    "n_validation = len(X_valid)\n",
    "\n",
    "# TODO: Number of testing examples.\n",
    "n_test = len(X_test)\n",
    "\n",
    "# TODO: What's the shape of an traffic sign image?\n",
    "image_shape = X_train[0].shape\n",
    "\n",
    "# TODO: How many unique classes/labels there are in the dataset.\n",
    "labels = []\n",
    "for label in y_train:\n",
    "    if label not in labels:\n",
    "        labels.append(label)\n",
    "n_classes = len(labels)\n",
    "\n",
    "print(\"Number of training examples =\", n_train)\n",
    "print(\"Number of validation examples =\", n_validation)\n",
    "print(\"Number of testing examples =\", n_test)\n",
    "print(\"Image data shape =\", image_shape)\n",
    "print(\"Number of classes =\", n_classes)"
   ]
  },
  {
   "cell_type": "markdown",
   "metadata": {},
   "source": [
    "### Include an exploratory visualization of the dataset"
   ]
  },
  {
   "cell_type": "markdown",
   "metadata": {},
   "source": [
    "Visualize the German Traffic Signs Dataset using the pickled file(s). This is open ended, suggestions include: plotting traffic sign images, plotting the count of each sign, etc. \n",
    "\n",
    "The [Matplotlib](http://matplotlib.org/) [examples](http://matplotlib.org/examples/index.html) and [gallery](http://matplotlib.org/gallery.html) pages are a great resource for doing visualizations in Python.\n",
    "\n",
    "**NOTE:** It's recommended you start with something simple first. If you wish to do more, come back to it after you've completed the rest of the sections. It can be interesting to look at the distribution of classes in the training, validation and test set. Is the distribution the same? Are there more examples of some classes than others?"
   ]
  },
  {
   "cell_type": "code",
   "execution_count": 3,
   "metadata": {},
   "outputs": [
    {
     "name": "stdout",
     "output_type": "stream",
     "text": [
      "\n",
      "Examples of the Traffic Sing training images:\n"
     ]
    },
    {
     "data": {
      "image/png": "[encoded data removed]",
      "text/plain": [
       "<matplotlib.figure.Figure at 0x7f9f240ad748>"
      ]
     },
     "metadata": {},
     "output_type": "display_data"
    },
    {
     "data": {
      "image/png": "[encoded data removed]",
      "text/plain": [
       "<matplotlib.figure.Figure at 0x7f9ee52f9898>"
      ]
     },
     "metadata": {},
     "output_type": "display_data"
    }
   ],
   "source": [
    "### Data exploration visualization code goes here.\n",
    "### Feel free to use as many code cells as needed.\n",
    "import matplotlib.pyplot as plt\n",
    "# Visualizations will be shown in the notebook.\n",
    "%matplotlib inline\n",
    "\n",
    "# show 5 ramdom inages\n",
    "import random\n",
    "import pandas as pd\n",
    "\n",
    "# Utility to plot random images\n",
    "def plot_images(images, lables, n = 5, cmap=None):\n",
    "    signnames = pd.read_csv('./signnames.csv').values\n",
    "    figure, axarr = plt.subplots(1, n, figsize=(17,3),sharex=True, sharey=True)\n",
    "    for subplot in range(n):\n",
    "        index = random.randint(1, len(images))\n",
    "        image = images[index].squeeze()\n",
    "        axarr[subplot].imshow(image, cmap=cmap)\n",
    "        lbl = lables[index]\n",
    "        axarr[subplot].set_title(signnames[lbl][1], {'fontsize': 8})\n",
    "    plt.show()\n",
    "    return figure\n",
    "\n",
    "print()\n",
    "print(\"Examples of the Traffic Sing training images:\")\n",
    "figure = plot_images(X_train, y_train)\n",
    "\n",
    "# Save the samples (for report)\n",
    "figure.savefig('project_data/color_signs.png')   # save the figure to file\n",
    "plt.close(figure)    # close the figure\n",
    "\n",
    "# Histogram of number of images of each sign\n",
    "hist = plt.figure()\n",
    "plt.hist(y_train, bins='auto')\n",
    "plt.title(\"Destribution of each sign in the training data set\")\n",
    "plt.show()\n",
    "\n",
    "# Save histogram picture (for report)\n",
    "hist.savefig('project_data/hist.png')   # save the histogram to file\n",
    "plt.close(hist)    # close the figure\n"
   ]
  },
  {
   "cell_type": "markdown",
   "metadata": {},
   "source": [
    "----\n",
    "\n",
    "## Step 2: Design and Test a Model Architecture\n",
    "\n",
    "Design and implement a deep learning model that learns to recognize traffic signs. Train and test your model on the [German Traffic Sign Dataset](http://benchmark.ini.rub.de/?section=gtsrb&subsection=dataset).\n",
    "\n",
    "The LeNet-5 implementation shown in the [classroom](https://classroom.udacity.com/nanodegrees/nd013/parts/fbf77062-5703-404e-b60c-95b78b2f3f9e/modules/6df7ae49-c61c-4bb2-a23e-6527e69209ec/lessons/601ae704-1035-4287-8b11-e2c2716217ad/concepts/d4aca031-508f-4e0b-b493-e7b706120f81) at the end of the CNN lesson is a solid starting point. You'll have to change the number of classes and possibly the preprocessing, but aside from that it's plug and play! \n",
    "\n",
    "With the LeNet-5 solution from the lecture, you should expect a validation set accuracy of about 0.89. To meet specifications, the validation set accuracy will need to be at least 0.93. It is possible to get an even higher accuracy, but 0.93 is the minimum for a successful project submission. \n",
    "\n",
    "There are various aspects to consider when thinking about this problem:\n",
    "\n",
    "- Neural network architecture (is the network over or underfitting?)\n",
    "- Play around preprocessing techniques (normalization, rgb to grayscale, etc)\n",
    "- Number of examples per label (some have more than others).\n",
    "- Generate fake data.\n",
    "\n",
    "Here is an example of a [published baseline model on this problem](http://yann.lecun.com/exdb/publis/pdf/sermanet-ijcnn-11.pdf). It's not required to be familiar with the approach used in the paper but, it's good practice to try to read papers like these."
   ]
  },
  {
   "cell_type": "markdown",
   "metadata": {},
   "source": [
    "### Pre-process the Data Set (normalization, grayscale, etc.)"
   ]
  },
  {
   "cell_type": "markdown",
   "metadata": {},
   "source": [
    "Minimally, the image data should be normalized so that the data has mean zero and equal variance. For image data, `(pixel - 128)/ 128` is a quick way to approximately normalize the data and can be used in this project. \n",
    "\n",
    "Other pre-processing steps are optional. You can try different techniques to see if it improves performance. \n",
    "\n",
    "Use the code cell (or multiple code cells, if necessary) to implement the first step of your project."
   ]
  },
  {
   "cell_type": "code",
   "execution_count": 4,
   "metadata": {
    "collapsed": true
   },
   "outputs": [],
   "source": [
    "### Preprocess the data here. It is required to normalize the data. Other preprocessing steps could include \n",
    "### converting to grayscale, etc.\n",
    "### Feel free to use as many code cells as needed.\n",
    "\n",
    "## Utility functions\n",
    "\n",
    "# Returns all indices in train dataset for a specific class \n",
    "def idx_in_class(s_class):\n",
    "    signs = [] \n",
    "    for i in range(n_train):\n",
    "        if s_class == y_train[i]:\n",
    "            signs.append(i)\n",
    "    return signs\n"
   ]
  },
  {
   "cell_type": "markdown",
   "metadata": {},
   "source": [
    "Grayscale by simply averaging the color pixels: (R + G + B) / 3 ([source](https://www.johndcook.com/blog/2009/08/24/algorithms-convert-color-grayscale/))"
   ]
  },
  {
   "cell_type": "code",
   "execution_count": 5,
   "metadata": {
    "collapsed": true
   },
   "outputs": [],
   "source": [
    "import numpy as np\n",
    "\n",
    "X_train = np.sum(X_train, axis=3, keepdims=True)/3\n",
    "X_test = np.sum(X_test, axis=3, keepdims=True)/3\n",
    "X_valid = np.sum(X_valid, axis=3, keepdims=True)/3"
   ]
  },
  {
   "cell_type": "code",
   "execution_count": 6,
   "metadata": {},
   "outputs": [
    {
     "name": "stdout",
     "output_type": "stream",
     "text": [
      "\n",
      "Examples of the preprocessed images:\n"
     ]
    },
    {
     "data": {
      "image/png": "[encoded data removed]",
      "text/plain": [
       "<matplotlib.figure.Figure at 0x7f9f2470d400>"
      ]
     },
     "metadata": {},
     "output_type": "display_data"
    }
   ],
   "source": [
    "print()\n",
    "print(\"Examples of the preprocessed images:\")\n",
    "figure = plot_images(X_train, y_train, cmap='gray')\n",
    "\n",
    "# Save the grayscale samples (for report)\n",
    "figure.savefig('project_data/gray_signs.png')   # save the figure to file\n",
    "plt.close(figure)    # close the figure\n"
   ]
  },
  {
   "cell_type": "markdown",
   "metadata": {},
   "source": [
    "Dataset Augmentation - adding more data to the training dataset by flipping and rotating the sign images "
   ]
  },
  {
   "cell_type": "code",
   "execution_count": 7,
   "metadata": {
    "collapsed": true
   },
   "outputs": [],
   "source": [
    "# flip\n",
    "def flip_signs(x, y, signs, num=10):\n",
    "    for i in range(num):\n",
    "        idx = np.random.choice(signs)\n",
    "        image = np.flipud(X_train[idx])\n",
    "        x.append(image)\n",
    "        y.append(y_train[idx])\n",
    "    return x, y\n",
    "\n",
    "# rotation\n",
    "import scipy.ndimage as ndimage\n",
    "\n",
    "def rotate_signs(x, y, signs, angle=15.0, num=10):\n",
    "    for i in range(num):\n",
    "        idx = np.random.choice(signs)\n",
    "        image = ndimage.rotate(X_train[idx], random.random()*angle, reshape=False)\n",
    "        x.append(image)\n",
    "        y.append(y_train[idx])\n",
    "    return x, y\n",
    "\n",
    "# shift (affine warp)\n",
    "from skimage.transform import warp, AffineTransform\n",
    "\n",
    "def shift_signs(x, y, signs, num):\n",
    "    for i in range(num):\n",
    "        idx = np.random.choice(signs)\n",
    "        dx, dy, ang, shr = (np.random.random(4) - 0.5)/10.\n",
    "        #tform = AffineTransform(scale=(dx+1, dy+1), shear=None, rotation=None)\n",
    "        tform = AffineTransform(scale=(dx+1, dy+1), shear=shr*2.5, rotation=ang*2.5)\n",
    "        image = warp(X_train[idx], tform.inverse)\n",
    "        x.append(image)\n",
    "        y.append(y_train[idx])\n",
    "    return x, y\n",
    "\n",
    "# tilt (projective warp)\n",
    "from skimage.transform import ProjectiveTransform\n",
    "\n",
    "def tilt_signs(x, y, signs, num):\n",
    "    for i in range(num):\n",
    "        idx = np.random.choice(signs)\n",
    "        high = random.randint(27, 32)\n",
    "        low = random.randint(0, 5)\n",
    "        p1 = np.float32([[0,0],[32,0],[0,32],[32,32]])\n",
    "        p2 = np.float32([[0, 0], [high, low], [low, 32],[32, high]])\n",
    "        tform = ProjectiveTransform()\n",
    "        tform.estimate(p1, p2)  \n",
    "        image = warp(X_train[idx], tform.inverse)\n",
    "        x.append(image)\n",
    "        y.append(y_train[idx])\n",
    "    return x, y    "
   ]
  },
  {
   "cell_type": "code",
   "execution_count": 8,
   "metadata": {
    "collapsed": true
   },
   "outputs": [],
   "source": [
    "# Build distorted signes for all classes, on 20% per of signes in class\n",
    "X_flip = []\n",
    "y_flip = []\n",
    "X_left = []\n",
    "y_left = []\n",
    "X_right = []\n",
    "y_right = []\n",
    "X_shift = []\n",
    "y_shift = []\n",
    "X_tilt = []\n",
    "y_tilt = []\n",
    "\n",
    "\n",
    "for i in range(n_classes):\n",
    "    signs = idx_in_class(i)\n",
    "    num = len(signs)//5\n",
    "    \n",
    "    #flip\n",
    "    flip_signs( X_flip, y_flip, signs, num)\n",
    "\n",
    "    #rotate left\n",
    "    rotate_signs( X_left, y_left, signs, 15.0, num)\n",
    "\n",
    "    #rotate right\n",
    "    rotate_signs( X_right, y_right, signs, -15.0, num)\n",
    "\n",
    "    #shift\n",
    "    shift_signs( X_shift, y_shift, signs, num)\n",
    "    \n",
    "    #tilt\n",
    "    tilt_signs( X_tilt, y_tilt, signs, num)\n",
    "\n",
    "# convert from list\n",
    "X_flip = np.array(X_flip)\n",
    "y_flip = np.array(y_flip)\n",
    "X_left = np.array(X_left)\n",
    "y_left = np.array(y_left)\n",
    "X_right = np.array(X_right)\n",
    "y_right = np.array(y_right)\n",
    "X_shift = np.array(X_shift)\n",
    "y_shift = np.array(y_shift)\n",
    "X_tilt = np.array(X_tilt)\n",
    "y_tilt = np.array(y_tilt)\n",
    "\n"
   ]
  },
  {
   "cell_type": "code",
   "execution_count": 9,
   "metadata": {},
   "outputs": [
    {
     "name": "stdout",
     "output_type": "stream",
     "text": [
      "\n",
      "Examples of the flipped images:\n"
     ]
    },
    {
     "data": {
      "image/png": "[encoded data removed]",
      "text/plain": [
       "<matplotlib.figure.Figure at 0x7f9ec1801470>"
      ]
     },
     "metadata": {},
     "output_type": "display_data"
    }
   ],
   "source": [
    "print()\n",
    "print(\"Examples of the flipped images:\")\n",
    "figure = plot_images(X_flip, y_flip, cmap='gray')\n",
    "# Save\n",
    "figure.savefig('project_data/flip_signs.png')   # save the figure to file\n",
    "plt.close(figure)    # close the figure"
   ]
  },
  {
   "cell_type": "code",
   "execution_count": 10,
   "metadata": {},
   "outputs": [
    {
     "name": "stdout",
     "output_type": "stream",
     "text": [
      "\n",
      "Examples of the left rotated images:\n"
     ]
    },
    {
     "data": {
      "image/png": "[encoded data removed]",
      "text/plain": [
       "<matplotlib.figure.Figure at 0x7f9ee54725f8>"
      ]
     },
     "metadata": {},
     "output_type": "display_data"
    }
   ],
   "source": [
    "print()\n",
    "print(\"Examples of the left rotated images:\")\n",
    "figure = plot_images(X_left, y_left, cmap='gray')\n",
    "# Save\n",
    "figure.savefig('project_data/left_signs.png')   # save the figure to file\n",
    "plt.close(figure)    # close the figure"
   ]
  },
  {
   "cell_type": "code",
   "execution_count": 11,
   "metadata": {
    "scrolled": true
   },
   "outputs": [
    {
     "name": "stdout",
     "output_type": "stream",
     "text": [
      "\n",
      "Examples of the right rotated images:\n"
     ]
    },
    {
     "data": {
      "image/png": "[encoded data removed]",
      "text/plain": [
       "<matplotlib.figure.Figure at 0x7f9ee53cd400>"
      ]
     },
     "metadata": {},
     "output_type": "display_data"
    }
   ],
   "source": [
    "print()\n",
    "print(\"Examples of the right rotated images:\")\n",
    "figure = plot_images(X_right, y_right, cmap='gray')\n",
    "# Save\n",
    "figure.savefig('project_data/right_signs.png')   # save the figure to file\n",
    "plt.close(figure)    # close the figure"
   ]
  },
  {
   "cell_type": "code",
   "execution_count": 12,
   "metadata": {
    "scrolled": true
   },
   "outputs": [
    {
     "name": "stdout",
     "output_type": "stream",
     "text": [
      "\n",
      "Examples of the shifted images:\n"
     ]
    },
    {
     "data": {
      "image/png": "[encoded data removed]",
      "text/plain": [
       "<matplotlib.figure.Figure at 0x7f9ec0b22ac8>"
      ]
     },
     "metadata": {},
     "output_type": "display_data"
    }
   ],
   "source": [
    "print()\n",
    "print(\"Examples of the shifted images:\")\n",
    "figure = plot_images(X_shift, y_shift, cmap='gray')\n",
    "# Save\n",
    "figure.savefig('project_data/shift_signs.png')   # save the figure to file\n",
    "plt.close(figure)    # close the figure"
   ]
  },
  {
   "cell_type": "code",
   "execution_count": 13,
   "metadata": {
    "scrolled": true
   },
   "outputs": [
    {
     "name": "stdout",
     "output_type": "stream",
     "text": [
      "\n",
      "Examples of the projective warp images:\n"
     ]
    },
    {
     "data": {
      "image/png": "[encoded data removed]",
      "text/plain": [
       "<matplotlib.figure.Figure at 0x7f9ee508cd30>"
      ]
     },
     "metadata": {},
     "output_type": "display_data"
    }
   ],
   "source": [
    "print()\n",
    "print(\"Examples of the projective warp images:\")\n",
    "figure = plot_images(X_tilt, y_tilt, cmap='gray')\n",
    "# Save\n",
    "figure.savefig('project_data/proj_signs.png')   # save the figure to file\n",
    "plt.close(figure)    # close the figure"
   ]
  },
  {
   "cell_type": "code",
   "execution_count": 14,
   "metadata": {},
   "outputs": [
    {
     "name": "stdout",
     "output_type": "stream",
     "text": [
      "(62635, 32, 32, 1)\n"
     ]
    }
   ],
   "source": [
    "# Add new images to the training dataset\n",
    "X_train = np.concatenate((X_train, X_left, X_right, X_shift, X_tilt), axis=0)\n",
    "y_train = np.concatenate((y_train, y_left, y_right, y_shift, y_tilt), axis=0)\n",
    "\n",
    "print(X_train.shape)\n",
    "n_train = len(X_train)"
   ]
  },
  {
   "cell_type": "markdown",
   "metadata": {},
   "source": [
    "Normalization"
   ]
  },
  {
   "cell_type": "code",
   "execution_count": 15,
   "metadata": {
    "collapsed": true
   },
   "outputs": [],
   "source": [
    "X_train = (X_train - 128)/128 \n",
    "X_test = (X_test - 128)/128\n",
    "X_valid = (X_valid - 128)/128"
   ]
  },
  {
   "cell_type": "markdown",
   "metadata": {},
   "source": [
    "Shuffle the training data"
   ]
  },
  {
   "cell_type": "code",
   "execution_count": 16,
   "metadata": {
    "collapsed": true
   },
   "outputs": [],
   "source": [
    "from sklearn.utils import shuffle\n",
    "X_train, y_train = shuffle(X_train, y_train)"
   ]
  },
  {
   "cell_type": "markdown",
   "metadata": {},
   "source": [
    "### Model Architecture"
   ]
  },
  {
   "cell_type": "code",
   "execution_count": 17,
   "metadata": {
    "collapsed": true
   },
   "outputs": [],
   "source": [
    "### Define your architecture here.\n",
    "### Feel free to use as many code cells as needed.\n",
    "from tensorflow.contrib.layers import flatten\n",
    "\n",
    "def LeNet_1(x):    \n",
    "    # Arguments used for tf.truncated_normal, randomly defines variables for the weights and biases for each layer\n",
    "    mu = 0\n",
    "    sigma = 0.1\n",
    "    \n",
    "    # TODO: Layer 1: Convolutional. Input = 32x32x1. Output = 28x28x64.\n",
    "    #new_height = (input_height - filter_height + 2 * P)/S + 1 = (32-5+2*0)/1+1=28\n",
    "    #new_width = (input_width - filter_width + 2 * P)/S + 1 = (32-5+2*0)/1+1=28\n",
    "    W1 = tf.Variable(tf.truncated_normal([5, 5, 1, 64], mean=mu, stddev=sigma)) \n",
    "    b1 = tf.Variable(tf.zeros(64))\n",
    "    conv1 = tf.nn.conv2d(x, W1, strides=[1, 1, 1, 1], padding='VALID')\n",
    "    conv1 = tf.nn.bias_add(conv1, b1)\n",
    "    print(\"conv1 shape: {}\".format(conv1))\n",
    "\n",
    "    # TODO: Activation 1.\n",
    "    act1 = tf.nn.relu(conv1)\n",
    "\n",
    "    #act1 = tf.nn.dropout(act1, keep_prob)    \n",
    "\n",
    "    # TODO: Pooling 1. Input = 28x28x64. Output = 14x14x64.\n",
    "    # new_height = (input_height - filter_height)/S + 1 = (28 - 2)/2 +1 = 13+1 = 14\n",
    "    # new_width = (input_width - filter_width)/S + 1 = (28 - 2)/2 +1 = 13+1 = 14\n",
    "    pool1 = tf.nn.max_pool(act1, ksize=[1, 2, 2, 1], strides=[1, 2, 2, 1], padding='SAME')\n",
    "#    pool1 = tf.nn.avg_pool(act1, ksize=[1, 2, 2, 1], strides=[1, 2, 2, 1], padding='SAME')\n",
    "    print(\"pool1 Shape: {}\".format(pool1))\n",
    "\n",
    "    # TODO: Layer 2: Convolutional. Input = 14x14x64. Output = 12x12x32.\n",
    "    #new_height = (input_height - filter_height + 2 * P)/S + 1 = (14-3+2*0)/1+1=12\n",
    "    #new_width = (input_width - filter_width + 2 * P)/S + 1 = (14-3+2*0)/1+1=12\n",
    "    # 6 outputs (depth = 6)\n",
    "    W2 = tf.Variable(tf.truncated_normal([3, 3, 64, 32], mean=mu, stddev=sigma)) \n",
    "    b2 = tf.Variable(tf.zeros(32))\n",
    "    conv2 = tf.nn.conv2d(pool1, W2, strides=[1, 1, 1, 1], padding='VALID')\n",
    "    conv2 = tf.nn.bias_add(conv2, b2)\n",
    "    print(\"conv2 Shape: {}\".format(conv2))\n",
    "    \n",
    "    # TODO: Activation 2.\n",
    "    act2 = tf.nn.relu(conv2)\n",
    "    \n",
    "    # TODO: Pooling 2. Input = 12x12x32. Output = 6x6x32.\n",
    "    # new_height = (input_height - filter_height)/S + 1 = (12 -2)/2 +1 = 5+1 = 6\n",
    "    # new_width = (input_width - filter_width)/S + 1 = (12 -2)/2 +1 = 5+1 = 6\n",
    "    pool2 = tf.nn.max_pool(act2, ksize=[1, 2, 2, 1], strides=[1, 2, 2, 1], padding='SAME')\n",
    "#    pool2 = tf.nn.avg_pool(act2, ksize=[1, 2, 2, 1], strides=[1, 2, 2, 1], padding='SAME')\n",
    "    print(\"pool2 shape: {}\".format(pool2))\n",
    "\n",
    "    # TODO: Layer 2b: Convolutional. Input = 6x6x32. Output = 5x5x16.\n",
    "    #new_height = (input_height - filter_height + 2 * P)/S + 1 = (6-2+2*0)/1+1=5\n",
    "    #new_width = (input_width - filter_width + 2 * P)/S + 1 = (6-2+2*0)/1+1=5\n",
    "    # 6 outputs (depth = 6)\n",
    "    W2b = tf.Variable(tf.truncated_normal([2, 2, 32, 16], mean=mu, stddev=sigma)) \n",
    "    b2b = tf.Variable(tf.zeros(16))\n",
    "    conv2b = tf.nn.conv2d(pool2, W2b, strides=[1, 1, 1, 1], padding='VALID')\n",
    "    conv2b = tf.nn.bias_add(conv2b, b2b)\n",
    "    print(\"conv2b Shape: {}\".format(conv2b))\n",
    "    \n",
    "    # TODO: Activation.\n",
    "    act2b = tf.nn.relu(conv2b)\n",
    "    \n",
    "    # TODO: Pooling. Input = 5x5x16. Output = 4x4x16.\n",
    "    # new_height = (input_height - filter_height)/S + 1 = (5 -2)/1 +1 = 3+1 = 4\n",
    "    # new_width = (input_width - filter_width)/S + 1 = (10 -2)/2 +1 = 3+1 = 4\n",
    "    pool2b = tf.nn.max_pool(act2b, ksize=[1, 2, 2, 1], strides=[1, 1, 1, 1], padding='VALID')\n",
    "    #pool2b = tf.nn.avg_pool(act2b, ksize=[1, 2, 2, 1], strides=[1, 2, 2, 1], padding='SAME')\n",
    "    print(\"pool2b shape: {}\".format(pool2b))\n",
    "\n",
    "    # TODO: Layer 2a: 1x1 Convolutional. Input = 4x4x16 Output = 1x1x256.\n",
    "    #new_height = (input_height - filter_height + 2 * P)/S + 1 = (5-5+2*0)/1+1=1\n",
    "    #new_width = (input_width - filter_width + 2 * P)/S + 1 = (5-5+2*0)/1+1=1\n",
    "    # 6 outputs (depth = 6)\n",
    "    W2a = tf.Variable(tf.truncated_normal([4, 4, 16, 256], mean=mu, stddev=sigma)) \n",
    "    b2a = tf.Variable(tf.zeros(256))\n",
    "    conv2a = tf.nn.conv2d(pool2b, W2a, strides=[1, 1, 1, 1], padding='VALID')\n",
    "    conv2a = tf.nn.bias_add(conv2a, b2a)\n",
    "    print(\"conv2a Shape: {}\".format(conv2a))\n",
    "\n",
    "    # TODO: Activation.\n",
    "    act2a = tf.nn.relu(conv2a)\n",
    "    \n",
    "    # TODO: Flatten. Input = 1x1x256. Output = 256.\n",
    "    #flat = tf.contrib.layers.flatten(pool2) # imported \n",
    "    #flat = flatten(act2a)\n",
    "    flat = flatten(pool2b)\n",
    "    print(\"flat shape: {}\".format(flat))\n",
    "    \n",
    "    # Dropout\n",
    "    flat = tf.nn.dropout(flat, keep_prob)    \n",
    "\n",
    "    # TODO: Layer 3: Fully Connected. Input = 256. Output = 128.\n",
    "    W3 = tf.Variable(tf.truncated_normal([256, 128], mean=mu, stddev=sigma)) \n",
    "    b3 = tf.Variable(tf.zeros(128))\n",
    "    fc3 = tf.add(tf.matmul(flat, W3), b3)\n",
    "    print(\"fc3 shape: {}\".format(fc3))\n",
    "    \n",
    "    # TODO: Activation.\n",
    "    act3 = tf.nn.relu(fc3)\n",
    "\n",
    "    # Dropout\n",
    "    #act3 = tf.nn.dropout(act3, keep_prob)    \n",
    "\n",
    "    # TODO: Layer 4: Fully Connected. Input = 128. Output = 64.\n",
    "    W4 = tf.Variable(tf.truncated_normal([128, 64], mean=mu, stddev=sigma)) \n",
    "    b4 = tf.Variable(tf.zeros(64))\n",
    "    fc4 = tf.add(tf.matmul(act3, W4), b4)\n",
    "    print(\"fc4 shape: {}\".format(fc4))\n",
    "    \n",
    "    # TODO: Activation.\n",
    "    act4 = tf.nn.relu(fc4)\n",
    "\n",
    "    # Dropout\n",
    "    #act4 = tf.nn.dropout(act4, keep_prob)    \n",
    "\n",
    "    # TODO: Layer 5: Fully Connected. Input = 64. Output = 43.\n",
    "    W5 = tf.Variable(tf.truncated_normal([64, 43], mean=mu, stddev=sigma)) \n",
    "    b5 = tf.Variable(tf.zeros(43))\n",
    "    logits = tf.add(tf.matmul(act4, W5), b5)\n",
    "    print(\"fc4 shape: {}\".format(logits))\n",
    "    \n",
    "    return logits"
   ]
  },
  {
   "cell_type": "code",
   "execution_count": 18,
   "metadata": {
    "collapsed": true
   },
   "outputs": [],
   "source": [
    "def LeNet_2(x):    \n",
    "    # Arguments used for tf.truncated_normal, randomly defines variables for the weights and biases for each layer\n",
    "    mu = 0\n",
    "    sigma = 0.1\n",
    "    \n",
    "    # TODO: Layer 1: Convolutional. Input = 32x32x1. Output = 28x28x64.\n",
    "    #new_height = (input_height - filter_height + 2 * P)/S + 1 = (32-5+2*0)/1+1=28\n",
    "    #new_width = (input_width - filter_width + 2 * P)/S + 1 = (32-5+2*0)/1+1=28\n",
    "    W1 = tf.Variable(tf.truncated_normal([5, 5, 1, 64], mean=mu, stddev=sigma)) \n",
    "    b1 = tf.Variable(tf.zeros(64))\n",
    "    conv1 = tf.nn.conv2d(x, W1, strides=[1, 1, 1, 1], padding='VALID')\n",
    "    conv1 = tf.nn.bias_add(conv1, b1)\n",
    "    print(\"conv1 shape: {}\".format(conv1))\n",
    "\n",
    "    # TODO: Activation 1.\n",
    "    act1 = tf.nn.relu(conv1)\n",
    "\n",
    "    #act1 = tf.nn.dropout(act1, keep_prob)    \n",
    "\n",
    "    # TODO: Pooling 1. Input = 28x28x64. Output = 14x14x64.\n",
    "    # new_height = (input_height - filter_height)/S + 1 = (28 - 2)/2 +1 = 13+1 = 14\n",
    "    # new_width = (input_width - filter_width)/S + 1 = (28 - 2)/2 +1 = 13+1 = 14\n",
    "    pool1 = tf.nn.max_pool(act1, ksize=[1, 2, 2, 1], strides=[1, 2, 2, 1], padding='SAME')\n",
    "#    pool1 = tf.nn.avg_pool(act1, ksize=[1, 2, 2, 1], strides=[1, 2, 2, 1], padding='SAME')\n",
    "    print(\"pool1 Shape: {}\".format(pool1))\n",
    "\n",
    "    # TODO: Layer 2: Convolutional. Input = 14x14x64. Output = 12x12x96.\n",
    "    #new_height = (input_height - filter_height + 2 * P)/S + 1 = (14-3+2*0)/1+1=12\n",
    "    #new_width = (input_width - filter_width + 2 * P)/S + 1 = (14-3+2*0)/1+1=12\n",
    "    # 6 outputs (depth = 6)\n",
    "    W2 = tf.Variable(tf.truncated_normal([3, 3, 64, 96], mean=mu, stddev=sigma)) \n",
    "    b2 = tf.Variable(tf.zeros(96))\n",
    "    conv2 = tf.nn.conv2d(pool1, W2, strides=[1, 1, 1, 1], padding='VALID')\n",
    "    conv2 = tf.nn.bias_add(conv2, b2)\n",
    "    print(\"conv2 Shape: {}\".format(conv2))\n",
    "    \n",
    "    # TODO: Activation 2.\n",
    "    act2 = tf.nn.relu(conv2)\n",
    "    \n",
    "    # TODO: Pooling 2. Input = 12x12x96. Output = 6x6x96.\n",
    "    # new_height = (input_height - filter_height)/S + 1 = (12 -2)/2 +1 = 5+1 = 6\n",
    "    # new_width = (input_width - filter_width)/S + 1 = (12 -2)/2 +1 = 5+1 = 6\n",
    "    pool2 = tf.nn.max_pool(act2, ksize=[1, 2, 2, 1], strides=[1, 2, 2, 1], padding='SAME')\n",
    "#    pool2 = tf.nn.avg_pool(act2, ksize=[1, 2, 2, 1], strides=[1, 2, 2, 1], padding='SAME')\n",
    "    print(\"pool2 shape: {}\".format(pool2))\n",
    "\n",
    "    # TODO: Layer 2b: Convolutional. Input = 6x6x96. Output = 5x5x128.\n",
    "    #new_height = (input_height - filter_height + 2 * P)/S + 1 = (6-2+2*0)/1+1=5\n",
    "    #new_width = (input_width - filter_width + 2 * P)/S + 1 = (6-2+2*0)/1+1=5\n",
    "    # 6 outputs (depth = 6)\n",
    "    W2b = tf.Variable(tf.truncated_normal([2, 2, 96, 128], mean=mu, stddev=sigma)) \n",
    "    b2b = tf.Variable(tf.zeros(128))\n",
    "    conv2b = tf.nn.conv2d(pool2, W2b, strides=[1, 1, 1, 1], padding='VALID')\n",
    "    conv2b = tf.nn.bias_add(conv2b, b2b)\n",
    "    print(\"conv2b Shape: {}\".format(conv2b))\n",
    "    \n",
    "    # TODO: Activation.\n",
    "    act2b = tf.nn.relu(conv2b)\n",
    "    \n",
    "    # TODO: Pooling. Input = 5x5x128. Output = 4x4x128.\n",
    "    # new_height = (input_height - filter_height)/S + 1 = (5 -2)/1 +1 = 3+1 = 4\n",
    "    # new_width = (input_width - filter_width)/S + 1 = (10 -2)/2 +1 = 3+1 = 4\n",
    "    pool2b = tf.nn.max_pool(act2b, ksize=[1, 2, 2, 1], strides=[1, 1, 1, 1], padding='VALID')\n",
    "    #pool2b = tf.nn.avg_pool(act2b, ksize=[1, 2, 2, 1], strides=[1, 2, 2, 1], padding='SAME')\n",
    "    print(\"pool2b shape: {}\".format(pool2b))\n",
    "    \n",
    "    # TODO: Flatten. Input = 4x4x128. Output = 2048.\n",
    "    #flat = tf.contrib.layers.flatten(pool2) # imported \n",
    "    #flat = flatten(act2a)\n",
    "    flat = flatten(pool2b)\n",
    "    print(\"flat shape: {}\".format(flat))\n",
    "    \n",
    "    # Dropout\n",
    "    flat = tf.nn.dropout(flat, keep_prob)    \n",
    "\n",
    "    # TODO: Layer 3: Fully Connected. Input = 2048. Output = 512.\n",
    "    W3 = tf.Variable(tf.truncated_normal([2048, 512], mean=mu, stddev=sigma)) \n",
    "    b3 = tf.Variable(tf.zeros(512))\n",
    "    fc3 = tf.add(tf.matmul(flat, W3), b3)\n",
    "    print(\"fc3 shape: {}\".format(fc3))\n",
    "    \n",
    "    # TODO: Activation.\n",
    "    act3 = tf.nn.relu(fc3)\n",
    "\n",
    "    # Dropout\n",
    "    act3 = tf.nn.dropout(act3, keep_prob)    \n",
    "\n",
    "    # TODO: Layer 4: Fully Connected. Input = 512. Output = 256.\n",
    "    W4 = tf.Variable(tf.truncated_normal([512, 256], mean=mu, stddev=sigma)) \n",
    "    b4 = tf.Variable(tf.zeros(256))\n",
    "    fc4 = tf.add(tf.matmul(act3, W4), b4)\n",
    "    print(\"fc4 shape: {}\".format(fc4))\n",
    "    \n",
    "    # TODO: Activation.\n",
    "    act4 = tf.nn.relu(fc4)\n",
    "\n",
    "    # Dropout\n",
    "    act4 = tf.nn.dropout(act4, keep_prob)    \n",
    "\n",
    "    # TODO: Layer 5: Fully Connected. Input = 256. Output = 43.\n",
    "    W5 = tf.Variable(tf.truncated_normal([256, 43], mean=mu, stddev=sigma)) \n",
    "    b5 = tf.Variable(tf.zeros(43))\n",
    "    logits = tf.add(tf.matmul(act4, W5), b5)\n",
    "    print(\"fc4 shape: {}\".format(logits))\n",
    "    \n",
    "    return logits"
   ]
  },
  {
   "cell_type": "code",
   "execution_count": null,
   "metadata": {
    "collapsed": true
   },
   "outputs": [],
   "source": [
    "def LeNet(x):    \n",
    "    # Arguments used for tf.truncated_normal, randomly defines variables for the weights and biases for each layer\n",
    "    mu = 0\n",
    "    sigma = 0.1\n",
    "    \n",
    "    # TODO: Layer 1: Convolutional. Input = 32x32x1. Output = 28x28x32.\n",
    "    #new_height = (input_height - filter_height + 2 * P)/S + 1 = (32-5+2*0)/1+1=28\n",
    "    #new_width = (input_width - filter_width + 2 * P)/S + 1 = (32-5+2*0)/1+1=28\n",
    "    W1 = tf.Variable(tf.truncated_normal([5, 5, 1, 32], mean=mu, stddev=sigma)) \n",
    "    b1 = tf.Variable(tf.zeros(32))\n",
    "    conv1 = tf.nn.conv2d(x, W1, strides=[1, 1, 1, 1], padding='VALID')\n",
    "    conv1 = tf.nn.bias_add(conv1, b1)\n",
    "    print(\"conv1 shape: {}\".format(conv1))\n",
    "\n",
    "    # TODO: Activation 1.\n",
    "    act1 = tf.nn.relu(conv1)\n",
    "\n",
    "    #act1 = tf.nn.dropout(act1, keep_prob)    \n",
    "\n",
    "    # TODO: Pooling 1. Input = 28x28x32. Output = 14x14x32.\n",
    "    # new_height = (input_height - filter_height)/S + 1 = (28 - 2)/2 +1 = 13+1 = 14\n",
    "    # new_width = (input_width - filter_width)/S + 1 = (28 - 2)/2 +1 = 13+1 = 14\n",
    "    pool1 = tf.nn.max_pool(act1, ksize=[1, 2, 2, 1], strides=[1, 2, 2, 1], padding='SAME')\n",
    "#    pool1 = tf.nn.avg_pool(act1, ksize=[1, 2, 2, 1], strides=[1, 2, 2, 1], padding='SAME')\n",
    "    print(\"pool1 Shape: {}\".format(pool1))\n",
    "\n",
    "    # TODO: Layer 2: Convolutional. Input = 14x14x32. Output = 12x12x64.\n",
    "    #new_height = (input_height - filter_height + 2 * P)/S + 1 = (14-5+2*0)/1+1=10\n",
    "    #new_width = (input_width - filter_width + 2 * P)/S + 1 = (14-5+2*0)/1+1=10\n",
    "    # 6 outputs (depth = 6)\n",
    "    W2 = tf.Variable(tf.truncated_normal([5, 5, 32, 64], mean=mu, stddev=sigma)) \n",
    "    b2 = tf.Variable(tf.zeros(64))\n",
    "    conv2 = tf.nn.conv2d(pool1, W2, strides=[1, 1, 1, 1], padding='VALID')\n",
    "    conv2 = tf.nn.bias_add(conv2, b2)\n",
    "    print(\"conv2 Shape: {}\".format(conv2))\n",
    "    \n",
    "    # TODO: Activation 2.\n",
    "    act2 = tf.nn.relu(conv2)\n",
    "    \n",
    "    # TODO: Pooling 2. Input = 10x10x64. Output = 5x5x64.\n",
    "    # new_height = (input_height - filter_height)/S + 1 = (10 -2)/2 +1 = 5+1 = 5\n",
    "    # new_width = (input_width - filter_width)/S + 1 = (10 -2)/2 +1 = 5+1 = 5\n",
    "    pool2 = tf.nn.max_pool(act2, ksize=[1, 2, 2, 1], strides=[1, 2, 2, 1], padding='SAME')\n",
    "#    pool2 = tf.nn.avg_pool(act2, ksize=[1, 2, 2, 1], strides=[1, 2, 2, 1], padding='SAME')\n",
    "    print(\"pool2 shape: {}\".format(pool2))\n",
    "\n",
    "    # TODO: Layer 2b: Convolutional. Input = 5x5x64. Output = 4x4x128.\n",
    "    #new_height = (input_height - filter_height + 2 * P)/S + 1 = (5-2+2*0)/1+1=4\n",
    "    #new_width = (input_width - filter_width + 2 * P)/S + 1 = (6-2+2*0)/1+1=4\n",
    "    # 6 outputs (depth = 6)\n",
    "    W2b = tf.Variable(tf.truncated_normal([2, 2, 64, 128], mean=mu, stddev=sigma)) \n",
    "    b2b = tf.Variable(tf.zeros(128))\n",
    "    conv2b = tf.nn.conv2d(pool2, W2b, strides=[1, 1, 1, 1], padding='VALID')\n",
    "    conv2b = tf.nn.bias_add(conv2b, b2b)\n",
    "    print(\"conv2b Shape: {}\".format(conv2b))\n",
    "    \n",
    "    # TODO: Activation.\n",
    "    act2b = tf.nn.relu(conv2b)\n",
    "    \n",
    "    # TODO: Pooling. Input = 4x4x128. Output = 2x2x128.\n",
    "    # new_height = (input_height - filter_height)/S + 1 = (4 -2)/2 +1 = 1+1 = 2\n",
    "    # new_width = (input_width - filter_width)/S + 1 = (4 -2)/2 +1 = 1+1 = 2\n",
    "    pool2b = tf.nn.max_pool(act2b, ksize=[1, 2, 2, 1], strides=[1, 2, 2, 1], padding='VALID')\n",
    "    print(\"pool2b shape: {}\".format(pool2b))\n",
    "    \n",
    "    # TODO: Flatten. Input = 2x2x128. Output = 512.\n",
    "    flat = flatten(pool2b)\n",
    "    print(\"flat shape: {}\".format(flat))\n",
    "    \n",
    "    # Dropout\n",
    "    flat = tf.nn.dropout(flat, keep_prob)    \n",
    "\n",
    "    # TODO: Layer 3: Fully Connected. Input = 512. Output = 256.\n",
    "    W3 = tf.Variable(tf.truncated_normal([512, 256], mean=mu, stddev=sigma)) \n",
    "    b3 = tf.Variable(tf.zeros(256))\n",
    "    fc3 = tf.add(tf.matmul(flat, W3), b3)\n",
    "    print(\"fc3 shape: {}\".format(fc3))\n",
    "    \n",
    "    # TODO: Activation.\n",
    "    act3 = tf.nn.relu(fc3)\n",
    "\n",
    "    # Dropout\n",
    "    #act3 = tf.nn.dropout(act3, keep_prob)    \n",
    "\n",
    "    # TODO: Layer 4: Fully Connected. Input = 256. Output = 128.\n",
    "    W4 = tf.Variable(tf.truncated_normal([256, 128], mean=mu, stddev=sigma)) \n",
    "    b4 = tf.Variable(tf.zeros(128))\n",
    "    fc4 = tf.add(tf.matmul(act3, W4), b4)\n",
    "    print(\"fc4 shape: {}\".format(fc4))\n",
    "    \n",
    "    # TODO: Activation.\n",
    "    act4 = tf.nn.relu(fc4)\n",
    "\n",
    "    # Dropout\n",
    "    #act4 = tf.nn.dropout(act4, keep_prob)    \n",
    "\n",
    "    # TODO: Layer 5: Fully Connected. Input = 128. Output = 43.\n",
    "    W5 = tf.Variable(tf.truncated_normal([128, 43], mean=mu, stddev=sigma)) \n",
    "    b5 = tf.Variable(tf.zeros(43))\n",
    "    logits = tf.add(tf.matmul(act4, W5), b5)\n",
    "    print(\"fc4 shape: {}\".format(logits))\n",
    "    \n",
    "    return logits"
   ]
  },
  {
   "cell_type": "markdown",
   "metadata": {},
   "source": [
    "### Train, Validate and Test the Model"
   ]
  },
  {
   "cell_type": "markdown",
   "metadata": {},
   "source": [
    "A validation set can be used to assess how well the model is performing. A low accuracy on the training and validation\n",
    "sets imply underfitting. A high accuracy on the training set but low accuracy on the validation set implies overfitting."
   ]
  },
  {
   "cell_type": "code",
   "execution_count": null,
   "metadata": {},
   "outputs": [
    {
     "name": "stdout",
     "output_type": "stream",
     "text": [
      "conv1 shape: Tensor(\"BiasAdd:0\", shape=(?, 28, 28, 32), dtype=float32)\n",
      "pool1 Shape: Tensor(\"MaxPool:0\", shape=(?, 14, 14, 32), dtype=float32)\n",
      "conv2 Shape: Tensor(\"BiasAdd_1:0\", shape=(?, 10, 10, 64), dtype=float32)\n",
      "pool2 shape: Tensor(\"MaxPool_1:0\", shape=(?, 5, 5, 64), dtype=float32)\n",
      "conv2b Shape: Tensor(\"BiasAdd_2:0\", shape=(?, 4, 4, 128), dtype=float32)\n",
      "pool2b shape: Tensor(\"MaxPool_2:0\", shape=(?, 2, 2, 128), dtype=float32)\n",
      "flat shape: Tensor(\"Flatten/Reshape:0\", shape=(?, 512), dtype=float32)\n",
      "fc3 shape: Tensor(\"Add:0\", shape=(?, 256), dtype=float32)\n",
      "fc4 shape: Tensor(\"Add_1:0\", shape=(?, 128), dtype=float32)\n",
      "fc4 shape: Tensor(\"Add_2:0\", shape=(?, 43), dtype=float32)\n",
      "Training...\n",
      "\n",
      "EPOCH 1 ...\n",
      "Validation Accuracy = 0.911\n",
      "\n",
      "EPOCH 2 ...\n",
      "Validation Accuracy = 0.935\n",
      "\n",
      "EPOCH 3 ...\n",
      "Validation Accuracy = 0.955\n",
      "\n",
      "EPOCH 4 ...\n",
      "Validation Accuracy = 0.951\n",
      "\n",
      "EPOCH 5 ...\n",
      "Validation Accuracy = 0.950\n",
      "\n",
      "EPOCH 6 ...\n",
      "Validation Accuracy = 0.966\n",
      "\n",
      "EPOCH 7 ...\n",
      "Validation Accuracy = 0.965\n",
      "\n",
      "EPOCH 8 ...\n",
      "Validation Accuracy = 0.970\n",
      "\n",
      "EPOCH 9 ...\n",
      "Validation Accuracy = 0.962\n",
      "\n",
      "EPOCH 10 ...\n",
      "Validation Accuracy = 0.978\n",
      "\n",
      "EPOCH 11 ...\n",
      "Validation Accuracy = 0.969\n",
      "\n",
      "EPOCH 12 ...\n",
      "Validation Accuracy = 0.974\n",
      "\n"
     ]
    }
   ],
   "source": [
    "### Train your model here.\n",
    "### Calculate and report the accuracy on the training and validation set.\n",
    "### Once a final model architecture is selected, \n",
    "### the accuracy on the test set should be calculated and reported as well.\n",
    "### Feel free to use as many code cells as needed.\n",
    "\n",
    "# Setup TensorFlow\n",
    "import tensorflow as tf\n",
    "\n",
    "EPOCHS = 50\n",
    "BATCH_SIZE = 128\n",
    "\n",
    "# x is a placeholder for a batch of input images. y is a placeholder for a batch of output labels.\n",
    "x = tf.placeholder(tf.float32, (None, 32, 32, 1))\n",
    "y = tf.placeholder(tf.int32, (None))\n",
    "one_hot_y = tf.one_hot(y, 43)\n",
    "\n",
    "# Create a training pipeline\n",
    "rate = 0.001\n",
    "\n",
    "# Probability to keep units\n",
    "keep_prob = tf.placeholder(tf.float32)\n",
    "dropout = 0.7\n",
    "\n",
    "logits = LeNet(x)\n",
    "cross_entropy = tf.nn.softmax_cross_entropy_with_logits(labels=one_hot_y, logits=logits)\n",
    "loss_operation = tf.reduce_mean(cross_entropy)\n",
    "optimizer = tf.train.AdamOptimizer(learning_rate = rate)\n",
    "training_operation = optimizer.minimize(loss_operation)\n",
    "\n",
    "# Evaluate how well the loss and accuracy of the model for a given dataset\n",
    "correct_prediction = tf.equal(tf.argmax(logits, 1), tf.argmax(one_hot_y, 1))\n",
    "accuracy_operation = tf.reduce_mean(tf.cast(correct_prediction, tf.float32))\n",
    "saver = tf.train.Saver()\n",
    "\n",
    "def evaluate(X_data, y_data):\n",
    "    num_examples = len(X_data)\n",
    "    total_accuracy = 0\n",
    "    sess = tf.get_default_session()\n",
    "    for offset in range(0, num_examples, BATCH_SIZE):\n",
    "        batch_x, batch_y = X_data[offset:offset+BATCH_SIZE], y_data[offset:offset+BATCH_SIZE]\n",
    "        accuracy = sess.run(accuracy_operation, feed_dict={x: batch_x, y: batch_y, keep_prob: 1.0})\n",
    "        total_accuracy += (accuracy * len(batch_x))\n",
    "    return total_accuracy / num_examples\n",
    "\n",
    "# Run the training data through the training pipeline to train the model\n",
    "with tf.Session() as sess:\n",
    "    sess.run(tf.global_variables_initializer())\n",
    "    num_examples = len(X_train)\n",
    "    \n",
    "    print(\"Training...\")\n",
    "    print()\n",
    "    for i in range(EPOCHS):\n",
    "        X_train, y_train = shuffle(X_train, y_train)\n",
    "        for offset in range(0, num_examples, BATCH_SIZE):\n",
    "            end = offset + BATCH_SIZE\n",
    "            batch_x, batch_y = X_train[offset:end], y_train[offset:end]\n",
    "            sess.run(training_operation, feed_dict={x: batch_x, y: batch_y, keep_prob: dropout})\n",
    "            \n",
    "        validation_accuracy = evaluate(X_valid, y_valid)\n",
    "        print(\"EPOCH {} ...\".format(i+1))\n",
    "        print(\"Validation Accuracy = {:.3f}\".format(validation_accuracy))\n",
    "        print()\n",
    "        \n",
    "    saver.save(sess, './lenet')\n",
    "    print(\"Model saved\")"
   ]
  },
  {
   "cell_type": "code",
   "execution_count": null,
   "metadata": {},
   "outputs": [],
   "source": [
    "\n",
    "with tf.Session() as sess:\n",
    "    saver.restore(sess, tf.train.latest_checkpoint('.'))\n",
    "\n",
    "    test_accuracy = evaluate(X_test, y_test)\n",
    "    print(\"Test Accuracy = {:.3f}\".format(test_accuracy))\n"
   ]
  },
  {
   "cell_type": "markdown",
   "metadata": {},
   "source": [
    "---\n",
    "\n",
    "## Step 3: Test a Model on New Images\n",
    "\n",
    "To give yourself more insight into how your model is working, download at least five pictures of German traffic signs from the web and use your model to predict the traffic sign type.\n",
    "\n",
    "You may find `signnames.csv` useful as it contains mappings from the class id (integer) to the actual sign name."
   ]
  },
  {
   "cell_type": "markdown",
   "metadata": {},
   "source": [
    "### Load and Output the Images"
   ]
  },
  {
   "cell_type": "code",
   "execution_count": null,
   "metadata": {},
   "outputs": [],
   "source": [
    "### Load the images and plot them here.\n",
    "### Feel free to use as many code cells as needed.\n",
    "import glob\n",
    "import matplotlib.image as mpimg\n",
    "from PIL import Image\n",
    "import cv2\n",
    "\n",
    "new_files = glob.glob('images/*.jpg')\n",
    "new_files = sorted(new_files)\n",
    "new_lables = np.array([17, 25, 34, 3, 14])\n",
    "\n",
    "def plot_figures(images, lables, cmap=None):\n",
    "    signnames = pd.read_csv('./signnames.csv').values\n",
    "    figure, axarr = plt.subplots(1, len(images), figsize=(17,3),sharex=True, sharey=True)\n",
    "    for subplot in range(len(images)):\n",
    "        image = images[subplot].squeeze()\n",
    "        axarr[subplot].imshow(image, cmap=cmap)\n",
    "        lbl = lables[subplot]\n",
    "        axarr[subplot].set_title(signnames[lbl][1], {'fontsize': 8})\n",
    "    plt.show()\n",
    "    return figure\n",
    "\n",
    "new_images = []\n",
    "\n",
    "for file in new_files:\n",
    "    #image = mpimg.imread(file)\n",
    "    #image = Image.fromarray(image)\n",
    "    #image = image.resize((32, 32), Image.ANTIALIAS)\n",
    "    image = cv2.cvtColor(cv2.imread(file), cv2.COLOR_BGR2RGB)\n",
    "    image = cv2.resize(image, (32, 32), interpolation = cv2.INTER_AREA)\n",
    "    image = np.array(image)\n",
    "    new_images.append(image)\n",
    "    print(image.shape)\n",
    "\n",
    "print()\n",
    "print(\"New Traffic Sign images:\")\n",
    "figure = plot_figures(new_images, new_lables)\n"
   ]
  },
  {
   "cell_type": "markdown",
   "metadata": {},
   "source": [
    "### Predict the Sign Type for Each Image"
   ]
  },
  {
   "cell_type": "code",
   "execution_count": null,
   "metadata": {},
   "outputs": [],
   "source": [
    "### Run the predictions here and use the model to output the prediction for each image.\n",
    "### Make sure to pre-process the images with the same pre-processing pipeline used earlier.\n",
    "### Feel free to use as many code cells as needed.\n",
    "\n",
    "# Grayscale and normalize\n",
    "new_images = np.sum(new_images, axis=3, keepdims=True)/3\n",
    "new_images = (new_images - 128)/128\n",
    "\n",
    "figure = plot_figures(new_images, new_lables, cmap='gray')"
   ]
  },
  {
   "cell_type": "code",
   "execution_count": null,
   "metadata": {},
   "outputs": [],
   "source": [
    "with tf.Session() as sess:\n",
    "    sess.run(tf.global_variables_initializer())\n",
    "    saver.restore(sess, \"./lenet\")\n",
    "    #saver.restore(sess, tf.train.latest_checkpoint('.'))\n",
    "    accuracy = evaluate(new_images, new_lables)\n",
    "    print(\"New Data Set Accuracy = {:.3f}\".format(accuracy))"
   ]
  },
  {
   "cell_type": "markdown",
   "metadata": {},
   "source": [
    "### Analyze Performance"
   ]
  },
  {
   "cell_type": "code",
   "execution_count": null,
   "metadata": {
    "collapsed": true
   },
   "outputs": [],
   "source": [
    "### Calculate the accuracy for these 5 new images. \n",
    "### For example, if the model predicted 1 out of 5 signs correctly, it's 20% accurate on these new images."
   ]
  },
  {
   "cell_type": "markdown",
   "metadata": {},
   "source": [
    "### Output Top 5 Softmax Probabilities For Each Image Found on the Web"
   ]
  },
  {
   "cell_type": "markdown",
   "metadata": {},
   "source": [
    "For each of the new images, print out the model's softmax probabilities to show the **certainty** of the model's predictions (limit the output to the top 5 probabilities for each image). [`tf.nn.top_k`](https://www.tensorflow.org/versions/r0.12/api_docs/python/nn.html#top_k) could prove helpful here. \n",
    "\n",
    "The example below demonstrates how tf.nn.top_k can be used to find the top k predictions for each image.\n",
    "\n",
    "`tf.nn.top_k` will return the values and indices (class ids) of the top k predictions. So if k=3, for each sign, it'll return the 3 largest probabilities (out of a possible 43) and the correspoding class ids.\n",
    "\n",
    "Take this numpy array as an example. The values in the array represent predictions. The array contains softmax probabilities for five candidate images with six possible classes. `tf.nn.top_k` is used to choose the three classes with the highest probability:\n",
    "\n",
    "```\n",
    "# (5, 6) array\n",
    "a = np.array([[ 0.24879643,  0.07032244,  0.12641572,  0.34763842,  0.07893497,\n",
    "         0.12789202],\n",
    "       [ 0.28086119,  0.27569815,  0.08594638,  0.0178669 ,  0.18063401,\n",
    "         0.15899337],\n",
    "       [ 0.26076848,  0.23664738,  0.08020603,  0.07001922,  0.1134371 ,\n",
    "         0.23892179],\n",
    "       [ 0.11943333,  0.29198961,  0.02605103,  0.26234032,  0.1351348 ,\n",
    "         0.16505091],\n",
    "       [ 0.09561176,  0.34396535,  0.0643941 ,  0.16240774,  0.24206137,\n",
    "         0.09155967]])\n",
    "```\n",
    "\n",
    "Running it through `sess.run(tf.nn.top_k(tf.constant(a), k=3))` produces:\n",
    "\n",
    "```\n",
    "TopKV2(values=array([[ 0.34763842,  0.24879643,  0.12789202],\n",
    "       [ 0.28086119,  0.27569815,  0.18063401],\n",
    "       [ 0.26076848,  0.23892179,  0.23664738],\n",
    "       [ 0.29198961,  0.26234032,  0.16505091],\n",
    "       [ 0.34396535,  0.24206137,  0.16240774]]), indices=array([[3, 0, 5],\n",
    "       [0, 1, 4],\n",
    "       [0, 5, 1],\n",
    "       [1, 3, 5],\n",
    "       [1, 4, 3]], dtype=int32))\n",
    "```\n",
    "\n",
    "Looking just at the first row we get `[ 0.34763842,  0.24879643,  0.12789202]`, you can confirm these are the 3 largest probabilities in `a`. You'll also notice `[3, 0, 5]` are the corresponding indices."
   ]
  },
  {
   "cell_type": "code",
   "execution_count": null,
   "metadata": {
    "collapsed": true
   },
   "outputs": [],
   "source": [
    "### Print out the top five softmax probabilities for the predictions on the German traffic sign images found on the web. \n",
    "### Feel free to use as many code cells as needed."
   ]
  },
  {
   "cell_type": "markdown",
   "metadata": {},
   "source": [
    "### Project Writeup\n",
    "\n",
    "Once you have completed the code implementation, document your results in a project writeup using this [template](https://github.com/udacity/CarND-Traffic-Sign-Classifier-Project/blob/master/writeup_template.md) as a guide. The writeup can be in a markdown or pdf file. "
   ]
  },
  {
   "cell_type": "markdown",
   "metadata": {},
   "source": [
    "> **Note**: Once you have completed all of the code implementations and successfully answered each question above, you may finalize your work by exporting the iPython Notebook as an HTML document. You can do this by using the menu above and navigating to  \\n\",\n",
    "    \"**File -> Download as -> HTML (.html)**. Include the finished document along with this notebook as your submission."
   ]
  },
  {
   "cell_type": "markdown",
   "metadata": {},
   "source": [
    "---\n",
    "\n",
    "## Step 4 (Optional): Visualize the Neural Network's State with Test Images\n",
    "\n",
    " This Section is not required to complete but acts as an additional excersise for understaning the output of a neural network's weights. While neural networks can be a great learning device they are often referred to as a black box. We can understand what the weights of a neural network look like better by plotting their feature maps. After successfully training your neural network you can see what it's feature maps look like by plotting the output of the network's weight layers in response to a test stimuli image. From these plotted feature maps, it's possible to see what characteristics of an image the network finds interesting. For a sign, maybe the inner network feature maps react with high activation to the sign's boundary outline or to the contrast in the sign's painted symbol.\n",
    "\n",
    " Provided for you below is the function code that allows you to get the visualization output of any tensorflow weight layer you want. The inputs to the function should be a stimuli image, one used during training or a new one you provided, and then the tensorflow variable name that represents the layer's state during the training process, for instance if you wanted to see what the [LeNet lab's](https://classroom.udacity.com/nanodegrees/nd013/parts/fbf77062-5703-404e-b60c-95b78b2f3f9e/modules/6df7ae49-c61c-4bb2-a23e-6527e69209ec/lessons/601ae704-1035-4287-8b11-e2c2716217ad/concepts/d4aca031-508f-4e0b-b493-e7b706120f81) feature maps looked like for it's second convolutional layer you could enter conv2 as the tf_activation variable.\n",
    "\n",
    "For an example of what feature map outputs look like, check out NVIDIA's results in their paper [End-to-End Deep Learning for Self-Driving Cars](https://devblogs.nvidia.com/parallelforall/deep-learning-self-driving-cars/) in the section Visualization of internal CNN State. NVIDIA was able to show that their network's inner weights had high activations to road boundary lines by comparing feature maps from an image with a clear path to one without. Try experimenting with a similar test to show that your trained network's weights are looking for interesting features, whether it's looking at differences in feature maps from images with or without a sign, or even what feature maps look like in a trained network vs a completely untrained one on the same sign image.\n",
    "\n",
    "<figure>\n",
    " <img src=\"visualize_cnn.png\" width=\"380\" alt=\"Combined Image\" />\n",
    " <figcaption>\n",
    " <p></p> \n",
    " <p style=\"text-align: center;\"> Your output should look something like this (above)</p> \n",
    " </figcaption>\n",
    "</figure>\n",
    " <p></p> \n"
   ]
  },
  {
   "cell_type": "code",
   "execution_count": null,
   "metadata": {
    "collapsed": true
   },
   "outputs": [],
   "source": [
    "### Visualize your network's feature maps here.\n",
    "### Feel free to use as many code cells as needed.\n",
    "\n",
    "# image_input: the test image being fed into the network to produce the feature maps\n",
    "# tf_activation: should be a tf variable name used during your training procedure that represents the calculated state of a specific weight layer\n",
    "# activation_min/max: can be used to view the activation contrast in more detail, by default matplot sets min and max to the actual min and max values of the output\n",
    "# plt_num: used to plot out multiple different weight feature map sets on the same block, just extend the plt number for each new feature map entry\n",
    "\n",
    "def outputFeatureMap(image_input, tf_activation, activation_min=-1, activation_max=-1 ,plt_num=1):\n",
    "    # Here make sure to preprocess your image_input in a way your network expects\n",
    "    # with size, normalization, ect if needed\n",
    "    # image_input =\n",
    "    # Note: x should be the same name as your network's tensorflow data placeholder variable\n",
    "    # If you get an error tf_activation is not defined it may be having trouble accessing the variable from inside a function\n",
    "    activation = tf_activation.eval(session=sess,feed_dict={x : image_input})\n",
    "    featuremaps = activation.shape[3]\n",
    "    plt.figure(plt_num, figsize=(15,15))\n",
    "    for featuremap in range(featuremaps):\n",
    "        plt.subplot(6,8, featuremap+1) # sets the number of feature maps to show on each row and column\n",
    "        plt.title('FeatureMap ' + str(featuremap)) # displays the feature map number\n",
    "        if activation_min != -1 & activation_max != -1:\n",
    "            plt.imshow(activation[0,:,:, featuremap], interpolation=\"nearest\", vmin =activation_min, vmax=activation_max, cmap=\"gray\")\n",
    "        elif activation_max != -1:\n",
    "            plt.imshow(activation[0,:,:, featuremap], interpolation=\"nearest\", vmax=activation_max, cmap=\"gray\")\n",
    "        elif activation_min !=-1:\n",
    "            plt.imshow(activation[0,:,:, featuremap], interpolation=\"nearest\", vmin=activation_min, cmap=\"gray\")\n",
    "        else:\n",
    "            plt.imshow(activation[0,:,:, featuremap], interpolation=\"nearest\", cmap=\"gray\")"
   ]
  }
 ],
 "metadata": {
  "anaconda-cloud": {},
  "kernelspec": {
   "display_name": "Python 3",
   "language": "python",
   "name": "python3"
  },
  "language_info": {
   "codemirror_mode": {
    "name": "ipython",
    "version": 3
   },
   "file_extension": ".py",
   "mimetype": "text/x-python",
   "name": "python",
   "nbconvert_exporter": "python",
   "pygments_lexer": "ipython3",
   "version": "3.5.2"
  },
  "widgets": {
   "state": {},
   "version": "1.1.2"
  }
 },
 "nbformat": 4,
 "nbformat_minor": 1
}
